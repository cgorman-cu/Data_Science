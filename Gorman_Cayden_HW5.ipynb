{
 "cells": [
  {
   "cell_type": "markdown",
   "metadata": {},
   "source": [
    "#### <a id='top'></a>\n",
    "\n",
    "# Homework 5: Distributions\n",
    "***\n",
    "\n",
    "**Name**: Cayden Gorman\n",
    "\n",
    "***\n",
    "\n",
    "This assignment is due on Canvas by **MIDNIGHT on Monday October 19**. Your solutions to theoretical questions should be done in Markdown directly below the associated question.  Your solutions to computational questions should include any specified Python code and results as well as written commentary on your conclusions.  Remember that you are encouraged to discuss the problems with your classmates, but **you must write all code and solutions on your own**.\n",
    "\n",
    "**NOTES**: \n",
    "\n",
    "- Any relevant data sets should be available under the **Data** module on Canvas. To make life easier on the graders if they need to run your code, do not change the relative path names here. Instead, move the files around on your computer.\n",
    "- If you're not familiar with typesetting math directly into Markdown then by all means, do your work on paper first and then typeset it later.  Remember that there is a [reference guide](https://math.meta.stackexchange.com/questions/5020/mathjax-basic-tutorial-and-quick-reference) linked on Canvas on writing math in Markdown. **All** of your written commentary, justifications and mathematical work should be in Markdown.\n",
    "- Because you can technically evaluate notebook cells is a non-linear order, it's a good idea to do Kernel $\\rightarrow$ Restart & Run All as a check before submitting your solutions.  That way if we need to run your code you will know that it will work as expected. \n",
    "- It is **bad form** to make your reader interpret numerical output from your code.  If a question asks you to compute some value from the data you should show your code output **AND** write a summary of the results in Markdown directly below your code. \n",
    "- 95 points of this assignment are in problems.  The remaining 5 are for neatness, style, and overall exposition of both code and text.\n",
    "- This probably goes without saying, but... For any question that asks you to calculate something, you **must show all work and justify your answers to receive credit**. Sparse or nonexistent work will receive sparse or nonexistent credit. \n",
    "\n",
    "---\n",
    "**Shortcuts:**  [Problem 1](#p1) | [Problem 2](#p2) | [Problem 3](#p3) |\n",
    "\n",
    "---"
   ]
  },
  {
   "cell_type": "code",
   "execution_count": 63,
   "metadata": {},
   "outputs": [],
   "source": [
    "import pandas as pd\n",
    "import numpy as np\n",
    "import matplotlib.pylab as plt\n",
    "%matplotlib inline"
   ]
  },
  {
   "cell_type": "markdown",
   "metadata": {},
   "source": [
    "***\n",
    "<a/ id='p1'></a>\n",
    "[Back to top](#top)\n",
    "\n",
    "## (30 pts) Problem 1: Theory (Continuous Distributions)\n",
    "***\n",
    "\n",
    "Suppose you are modeling the probability of observing various levels of cuteness in hedgehogs you encounter.  Let $X$ be a random variable representing the observed cuteness, which is *obviously* nonnegative and has units of deci*awws*. You decide to use the following pdf for $X$:\n",
    "\n",
    "$$\n",
    "f(x) = \\begin{cases}\n",
    "         c \\frac{1}{x^2} & =1 \\leq x < \\infty \\\\\n",
    "         0                           & \\text{otherwise}\n",
    "       \\end{cases}\n",
    "$$\n",
    "where $c$ is some normalizing constant.\n",
    "\n",
    "**Part A**: Determine the value of $c$ such that $f(x)$ is a valid probability density function. Then, make a plot of the probability density function for hedgehog cuteness, $f(x)$. Be sure to label your axes!"
   ]
  },
  {
   "cell_type": "code",
   "execution_count": 64,
   "metadata": {},
   "outputs": [
    {
     "data": {
      "text/plain": [
       "[<matplotlib.lines.Line2D at 0x2093c7a8430>]"
      ]
     },
     "execution_count": 64,
     "metadata": {},
     "output_type": "execute_result"
    },
    {
     "data": {
      "image/png": "[encoded data removed]",
      "text/plain": [
       "<Figure size 432x288 with 1 Axes>"
      ]
     },
     "metadata": {
      "needs_background": "light"
     },
     "output_type": "display_data"
    }
   ],
   "source": [
    "x = np.linspace(.1,1.5,100)\n",
    "y=x**-2\n",
    "fig=plt.figure()\n",
    "f=fig.add_subplot(1,1,1)\n",
    "\n",
    "plt.plot(x,y,'g')\n"
   ]
  },
  {
   "cell_type": "markdown",
   "metadata": {},
   "source": [
    "cdf must have an area of 1.\n",
    "$$1=c\\int_{1}^{\\infty} \\frac{dx}{x^2}$$\n",
    "$$1=(-\\frac{c}{x})|_{1}^\\infty$$\n",
    "$$1=\\frac{c}{\\infty}-(-c)$$\n",
    "$$1=c$$"
   ]
  },
  {
   "cell_type": "markdown",
   "metadata": {},
   "source": [
    "**Part B**: Compute *by hand* the cumulative density (cdf) function $F(x)$ for $X$."
   ]
  },
  {
   "cell_type": "markdown",
   "metadata": {},
   "source": [
    "$$F(X\\leq x)=c\\int_{0}^{x} \\frac{dt}{t^2} $$\n",
    "$$=-\\frac{c}{t}|_{1}^x$$\n",
    "$$=-\\frac{c}{x}-(-c) $$\n",
    "$$=c-\\frac{c}{x}$$\n",
    "Let c=1\n",
    "$$F(X\\leq x)=1-\\frac{1}{x}$$"
   ]
  },
  {
   "cell_type": "markdown",
   "metadata": {},
   "source": [
    "**Part C:**  Use the cdf you derived in **Part B** to calculate the median ($\\tilde{x}$) cuteness of all hedgehogs."
   ]
  },
  {
   "cell_type": "markdown",
   "metadata": {},
   "source": [
    "$$.5=1-\\frac{1}{x}$$\n",
    "$$\\frac{1}{x}=.5$$\n",
    "$$x=2$$\n",
    "$$\\tilde{x}=2$$"
   ]
  },
  {
   "cell_type": "markdown",
   "metadata": {},
   "source": [
    "**Part D**: It is a well-known fact that any hedgehog whose cuteness exceeds 2.5 deciawws is **totes adorbz**. Use the cdf you computed in **Part B** to find the probability that any arbitrary hedgehog that you observe is totes adorbz."
   ]
  },
  {
   "cell_type": "markdown",
   "metadata": {},
   "source": [
    "Since cdf gives the probability less than random variable X. To get probability greater than a certain X use 1-F(X).\n",
    "\n",
    "$$P(2.5\\leq X)=1-F(2.5)$$\n",
    "$$=1-(1-\\frac{2}{5}) $$\n",
    "$$=\\frac{2}{5}$$"
   ]
  },
  {
   "cell_type": "markdown",
   "metadata": {},
   "source": [
    "**Part E:** You have been painstakingly collecting data on hedgehogs all over town, and the cuteness is damn near overwhelming. Suppose you sample 5 hedgehogs, and the cuteness of any given hedgehog is independent of the cuteness of all other hedgehogs. What is the probability that more than half of them are totes adorbz? Keep at least 5 decimal places in your answer."
   ]
  },
  {
   "cell_type": "markdown",
   "metadata": {},
   "source": [
    "Asking for  3 F(2.5$\\leq$X)outcomes with any combination of 3 choose 5. It is  a binomial distrabution\n",
    "\n",
    "Let event E be that more than half of 5 hedgehogs are totes adorbz.\n",
    "\n",
    "$$P(E)=\\binom{3}{5} (F(2.5\\leq x)^3) $$\n",
    "$$P(E)=10*(\\frac{2}{5})^3$$\n",
    "$$P(E)=10*\\frac{8}{125}=.64$$"
   ]
  },
  {
   "cell_type": "markdown",
   "metadata": {},
   "source": [
    "***\n",
    "<a/ id='p2'></a>\n",
    "[Back to top](#top)\n",
    "\n",
    "## (30 pts) Problem 2: Theory (Named Distributions)\n",
    "***\n",
    "Person $X$ is waiting at a bus stop where the bus arrives *exactly* every ten minutes. Person Y is at a different stop, waiting for a bus that arrives *on average* every 8 minutes. Neither person knows how long ago the last bus arrived, and the arrival time of one bus is not dependent on the other bus.\n",
    "\n",
    "\n",
    "Answer the problems below assuming the wait time for person $Y$ follows an exponential distribution and the wait time for person $X$ follows a uniform distribution.\n",
    "\n",
    "**Part A**: What are the values of the parameters of the uniform distribution for person X?"
   ]
  },
  {
   "cell_type": "markdown",
   "metadata": {},
   "source": [
    "$$a=10, b=11$$\n",
    "$$f(x)=\\begin{cases}\n",
    "         \\frac{1}{11-10}=1 & 10 \\leq x < 11 \\\\\n",
    "         0                           & \\text{otherwise}\n",
    "       \\end{cases}$$"
   ]
  },
  {
   "cell_type": "markdown",
   "metadata": {},
   "source": [
    "**Part B**: What are the values of the parameters of the exponential distribution for person Y ?\n"
   ]
  },
  {
   "cell_type": "markdown",
   "metadata": {},
   "source": [
    "$$f(x)= \\lambda e^{-\\lambda x}     x\\geq 0$$\n",
    "$$\\lambda = \\frac{1}{8}$$"
   ]
  },
  {
   "cell_type": "markdown",
   "metadata": {},
   "source": [
    "**Part C**: Let $Z$ be defined as the total amount of time both people (combined) wait.  What are $E[Z]$ and $Var[Z]$?"
   ]
  },
  {
   "cell_type": "markdown",
   "metadata": {},
   "source": [
    "$$Z=X+Y$$\n",
    "$$E[Z]=E[X+Y]=E[X]+E[Y]$$\n",
    "\n",
    "$$E[X]=\\frac{1}{2}*(11+10)=20.5$$\n",
    "$$E[Y]=\\frac{1}{\\lambda}=8$$\n",
    "$$E[Z]=20.5+8=28.5$$"
   ]
  },
  {
   "cell_type": "markdown",
   "metadata": {},
   "source": [
    "**Part D**: What is the exact probability both people wait more than 4 minutes?\n"
   ]
  },
  {
   "cell_type": "markdown",
   "metadata": {},
   "source": [
    "$$P(X>4)= 1-P(X\\leq 4)=1-\\int_{0}^{4}f(x)=1-0=1 $$\n",
    "$$P(Y>4)= \\int_{4}^{\\infty}\\lambda e^{-\\lambda y}dy $$\n",
    "$$P(Y>4)= -e^{-\\lambda y}|_{4}^{\\infty} $$\n",
    "$$P(Y>4)= 0-(e^{-\\frac{1}{2}})$$\n",
    "\n",
    "$$ P(X>4)*P(Y>4)=1*\\frac{1}{e^{\\frac{1}{2}}} $$"
   ]
  },
  {
   "cell_type": "markdown",
   "metadata": {},
   "source": [
    "***\n",
    "<a/ id='p3'></a>\n",
    "[Back to top](#top)\n",
    "\n",
    "## (35 pts) Problem 3: Simulation and Theory (Games)\n",
    "***\n",
    "\n",
    "The Riddler is a column on the website https://fivethirtyeight.com that posts logic, math, and probability puzzles each week.  Some of puzzles can be attacked by simulation and discrete probability: things that we have the tools to solve!\n",
    "\n",
    "(https://fivethirtyeight.com/features/how-low-can-you-roll/)\n",
    "\n",
    "You are given a fair, unweighted 10-sided die with sides labeled 0 to 9 and a sheet of paper to record your score. (If the very notion of a fair 10-sided die bothers you, and you need to know what sort of three-dimensional solid it is, then forget it — you have a random number generator that gives you an integer value from 0 to 9 with equal probability. Your loss — the die was a collector’s item.)\n",
    "\n",
    "To start the game, you roll the die. Your current “score” is the number shown, divided by 10. For example, if you were to roll a 7, then your score would be 0.7. Then, you keep rolling the die over and over again. Each time you roll, if the digit shown by the die is less than or equal to the last digit of your score, then that roll becomes the new last digit of your score. Otherwise you just go ahead and roll again. The game ends when you roll a zero.\n",
    "\n",
    "For example, suppose you roll the following: 6, 2, 5, 1, 8, 1, 0. After your first roll, your score would be 0.6, After the second, it’s 0.62. You ignore the third roll, since 5 is greater than the current last digit, 2. After the fourth roll, your score is 0.621. You ignore the fifth roll, since 8 is greater than the current last digit, 1. After the sixth roll, your score is 0.6211. And after the seventh roll, the game is over — 0.6211 is your final score.\n",
    "\n",
    "What will be your average final score in this game?\n",
    "\n",
    "**Part A**: Suppose our current value is $0.abcd$ for some 1-9 integers $a, b, c, d.$  What is the theoretical distribution of $e$, the next *term* in the final score's decimal representation?  Name the distribution and list all of its outcomes and their probabilities.  Note that \"there are no additional terms\" should have non-zero probability."
   ]
  },
  {
   "cell_type": "markdown",
   "metadata": {},
   "source": [
    "This is a uniform distrabution since each event has the same probability over a range from 0 to 9.\n",
    "$$f(x)=\\begin{cases}\n",
    "         .abcd1 &\\frac{1}{10} &  x =1 \\\\\n",
    "         .abcd2 &\\frac{1}{10} &  x =2 \\\\\n",
    "         .abcd3 &\\frac{1}{10} &  x =3 \\\\\n",
    "         .abcd4 &\\frac{1}{10} &  x =4 \\\\\n",
    "         .abcd5 & \\frac{1}{10} &  x =5 \\\\\n",
    "         .abcd6 &\\frac{1}{10} &  x =6 \\\\\n",
    "         .abcd7 &\\frac{1}{10} &  x =7 \\\\\n",
    "         .abcd8 &\\frac{1}{10} &  x =8 \\\\\n",
    "         .abcd9 &\\frac{1}{10} &  x =9 \\\\\n",
    "         .abcd &\\frac{1}{10} & x=0                           &\n",
    "       \\end{cases}$$"
   ]
  },
  {
   "cell_type": "markdown",
   "metadata": {},
   "source": [
    "**Part B**: What is the expected number of *rolls* until you're done?  What distribution is this?\n",
    "\n"
   ]
  },
  {
   "cell_type": "markdown",
   "metadata": {},
   "source": [
    "$$E[e]=1*\\frac{1}{10}+2*\\frac{1}{10}+3*\\frac{1}{10}+4*\\frac{1}{10}+5*\\frac{1}{10}+6*\\frac{1}{10}+7*\\frac{1}{10}+8*\\frac{1}{10}+9*\\frac{1}{10}+0*\\frac{1}{10}=\\frac{45}{10}=4.5 $$\n",
    "This is a uniform distrabution since $$E[e]=\\frac{1}{2}*(b-a) $$\n",
    "Let a=0 and b=9\n",
    "$$E[e]=\\frac{9}{2}=4.5$$"
   ]
  },
  {
   "cell_type": "markdown",
   "metadata": {},
   "source": [
    "**Part C**: Simulate 10000 trials of this game, recording a score for each, then compute and print the average score over all of those trials. \n",
    "\n",
    "(Note: To check your result, you can find the exact *expected* solution in the following week's column: https://fivethirtyeight.com/features/can-you-decode-the-riddler-lottery/... but we want to simulate!)\n"
   ]
  },
  {
   "cell_type": "code",
   "execution_count": 52,
   "metadata": {},
   "outputs": [
    {
     "name": "stdout",
     "output_type": "stream",
     "text": [
      "0.3383458786155328\n",
      "[0.658      0.         0.96771123 ... 0.51775825 0.97237476 0.88231719]\n",
      "The average score: 0.49360660793212463\n"
     ]
    }
   ],
   "source": [
    "dice = np.array([0,1,2,3,4,5,6,7,8,9])\n",
    "rolls = np.random.choice(dice, size=10000)\n",
    "def run(dice):\n",
    "    score=0\n",
    "    currVal=1\n",
    "    count=0\n",
    "    while(currVal!=0):\n",
    "        \n",
    "        currVal=np.random.choice(dice,size=1)[0]\n",
    "        \n",
    "        \n",
    "        if(currVal!=0):\n",
    "            count+=1\n",
    "            score=score +currVal*10**-count\n",
    "    return round(score,count)\n",
    "results= np.full(10000,0.0)\n",
    "\n",
    "\n",
    "for i in range(0,10000):\n",
    "    results[i]=run(dice)\n",
    "print(results)\n",
    "print(\"The average score: \"+str(np.mean(results)))\n",
    "m"
   ]
  },
  {
   "cell_type": "markdown",
   "metadata": {},
   "source": [
    "**Part D**: Make a histogram of all your scores from part C, and include a vertical line placed at the mean score from part C."
   ]
  },
  {
   "cell_type": "code",
   "execution_count": 62,
   "metadata": {},
   "outputs": [
    {
     "data": {
      "text/plain": [
       "Text(0, 0.5, '# of certain Score')"
      ]
     },
     "execution_count": 62,
     "metadata": {},
     "output_type": "execute_result"
    },
    {
     "data": {
      "image/png": "[encoded data removed]",
      "text/plain": [
       "<Figure size 432x288 with 1 Axes>"
      ]
     },
     "metadata": {
      "needs_background": "light"
     },
     "output_type": "display_data"
    }
   ],
   "source": [
    "mean=np.mean(results)\n",
    "fig=plt.figure()\n",
    "f=fig.add_subplot(1,1,1)\n",
    "\n",
    "plt.hist(results)\n",
    "plt.axvline(x=mean,color='r')\n",
    "plt.xlabel(\"Score\")\n",
    "plt.ylabel(\"# of certain Score\")"
   ]
  },
  {
   "cell_type": "code",
   "execution_count": null,
   "metadata": {},
   "outputs": [],
   "source": []
  }
 ],
 "metadata": {
  "kernelspec": {
   "display_name": "Python 3",
   "language": "python",
   "name": "python3"
  },
  "language_info": {
   "codemirror_mode": {
    "name": "ipython",
    "version": 3
   },
   "file_extension": ".py",
   "mimetype": "text/x-python",
   "name": "python",
   "nbconvert_exporter": "python",
   "pygments_lexer": "ipython3",
   "version": "3.8.3"
  }
 },
 "nbformat": 4,
 "nbformat_minor": 2
}
